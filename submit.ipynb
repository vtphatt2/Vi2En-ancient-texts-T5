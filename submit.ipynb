{
 "cells": [
  {
   "cell_type": "code",
   "execution_count": 1,
   "metadata": {},
   "outputs": [],
   "source": [
    "import os\n",
    "from glob import glob\n",
    "import json\n",
    "import pandas as pd\n",
    "from openpyxl import load_workbook"
   ]
  },
  {
   "cell_type": "code",
   "execution_count": 2,
   "metadata": {},
   "outputs": [],
   "source": [
    "DATA_FOLDER = \"data\"\n",
    "SUBMIT_FOLDER = \"22125056_22125072_22125085\"\n",
    "\n",
    "os.makedirs(SUBMIT_FOLDER, exist_ok=True)\n",
    "\n",
    "json_files = glob(os.path.join(DATA_FOLDER, '*.json'))\n",
    "json_files.sort()"
   ]
  },
  {
   "cell_type": "code",
   "execution_count": 3,
   "metadata": {},
   "outputs": [],
   "source": [
    "for json_file in json_files:\n",
    "    with open(json_file, 'r', encoding='utf-8') as f:\n",
    "        json_data = json.load(f)\n",
    "        vi_texts = []\n",
    "        en_texts = []\n",
    "        \n",
    "        for item in json_data['data']:\n",
    "            vi_texts.append(item['vi'])\n",
    "            en_texts.append(item['en'])\n",
    "\n",
    "        df = pd.DataFrame({\n",
    "            'No.': range(1, len(vi_texts) + 1),\n",
    "            'Vietnamese texts': vi_texts,\n",
    "            'English texts': en_texts\n",
    "        })\n",
    "\n",
    "        output_filename = os.path.join(SUBMIT_FOLDER, os.path.basename(json_file).replace('.json', '.xlsx'))\n",
    "        df.to_excel(output_filename, index=False, engine='openpyxl')\n",
    "\n",
    "        wb = load_workbook(output_filename)\n",
    "        ws = wb.active\n",
    "\n",
    "        for col in ws.columns:\n",
    "            max_length = 0\n",
    "            column = col[0].column_letter \n",
    "            for cell in col:\n",
    "                try:\n",
    "                    if len(str(cell.value)) > max_length:\n",
    "                        max_length = len(cell.value)\n",
    "                except:\n",
    "                    pass\n",
    "            adjusted_width = (max_length + 2)  \n",
    "            ws.column_dimensions[column].width = adjusted_width\n",
    "\n",
    "        wb.save(output_filename)"
   ]
  }
 ],
 "metadata": {
  "kernelspec": {
   "display_name": "myenv",
   "language": "python",
   "name": "python3"
  },
  "language_info": {
   "codemirror_mode": {
    "name": "ipython",
    "version": 3
   },
   "file_extension": ".py",
   "mimetype": "text/x-python",
   "name": "python",
   "nbconvert_exporter": "python",
   "pygments_lexer": "ipython3",
   "version": "3.8.20"
  }
 },
 "nbformat": 4,
 "nbformat_minor": 2
}
