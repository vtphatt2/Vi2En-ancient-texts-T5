{
  "nbformat": 4,
  "nbformat_minor": 0,
  "metadata": {
    "colab": {
      "provenance": [],
      "gpuType": "T4"
    },
    "kernelspec": {
      "name": "python3",
      "display_name": "Python 3"
    },
    "language_info": {
      "name": "python"
    },
    "accelerator": "GPU"
  },
  "cells": [
    {
      "cell_type": "code",
      "execution_count": 13,
      "metadata": {
        "colab": {
          "base_uri": "https://localhost:8080/"
        },
        "id": "ScR5uZj3O5d2",
        "outputId": "9a42b9ea-0349-4739-b62a-b881941014f7"
      },
      "outputs": [
        {
          "output_type": "stream",
          "name": "stdout",
          "text": [
            "Requirement already satisfied: sentence-transformers in /usr/local/lib/python3.10/dist-packages (3.3.1)\n",
            "Requirement already satisfied: transformers<5.0.0,>=4.41.0 in /usr/local/lib/python3.10/dist-packages (from sentence-transformers) (4.47.1)\n",
            "Requirement already satisfied: tqdm in /usr/local/lib/python3.10/dist-packages (from sentence-transformers) (4.67.1)\n",
            "Requirement already satisfied: torch>=1.11.0 in /usr/local/lib/python3.10/dist-packages (from sentence-transformers) (2.5.1+cu121)\n",
            "Requirement already satisfied: scikit-learn in /usr/local/lib/python3.10/dist-packages (from sentence-transformers) (1.6.0)\n",
            "Requirement already satisfied: scipy in /usr/local/lib/python3.10/dist-packages (from sentence-transformers) (1.13.1)\n",
            "Requirement already satisfied: huggingface-hub>=0.20.0 in /usr/local/lib/python3.10/dist-packages (from sentence-transformers) (0.27.0)\n",
            "Requirement already satisfied: Pillow in /usr/local/lib/python3.10/dist-packages (from sentence-transformers) (11.0.0)\n",
            "Requirement already satisfied: filelock in /usr/local/lib/python3.10/dist-packages (from huggingface-hub>=0.20.0->sentence-transformers) (3.16.1)\n",
            "Requirement already satisfied: fsspec>=2023.5.0 in /usr/local/lib/python3.10/dist-packages (from huggingface-hub>=0.20.0->sentence-transformers) (2024.10.0)\n",
            "Requirement already satisfied: packaging>=20.9 in /usr/local/lib/python3.10/dist-packages (from huggingface-hub>=0.20.0->sentence-transformers) (24.2)\n",
            "Requirement already satisfied: pyyaml>=5.1 in /usr/local/lib/python3.10/dist-packages (from huggingface-hub>=0.20.0->sentence-transformers) (6.0.2)\n",
            "Requirement already satisfied: requests in /usr/local/lib/python3.10/dist-packages (from huggingface-hub>=0.20.0->sentence-transformers) (2.32.3)\n",
            "Requirement already satisfied: typing-extensions>=3.7.4.3 in /usr/local/lib/python3.10/dist-packages (from huggingface-hub>=0.20.0->sentence-transformers) (4.12.2)\n",
            "Requirement already satisfied: networkx in /usr/local/lib/python3.10/dist-packages (from torch>=1.11.0->sentence-transformers) (3.4.2)\n",
            "Requirement already satisfied: jinja2 in /usr/local/lib/python3.10/dist-packages (from torch>=1.11.0->sentence-transformers) (3.1.4)\n",
            "Requirement already satisfied: sympy==1.13.1 in /usr/local/lib/python3.10/dist-packages (from torch>=1.11.0->sentence-transformers) (1.13.1)\n",
            "Requirement already satisfied: mpmath<1.4,>=1.1.0 in /usr/local/lib/python3.10/dist-packages (from sympy==1.13.1->torch>=1.11.0->sentence-transformers) (1.3.0)\n",
            "Requirement already satisfied: numpy>=1.17 in /usr/local/lib/python3.10/dist-packages (from transformers<5.0.0,>=4.41.0->sentence-transformers) (1.26.4)\n",
            "Requirement already satisfied: regex!=2019.12.17 in /usr/local/lib/python3.10/dist-packages (from transformers<5.0.0,>=4.41.0->sentence-transformers) (2024.11.6)\n",
            "Requirement already satisfied: tokenizers<0.22,>=0.21 in /usr/local/lib/python3.10/dist-packages (from transformers<5.0.0,>=4.41.0->sentence-transformers) (0.21.0)\n",
            "Requirement already satisfied: safetensors>=0.4.1 in /usr/local/lib/python3.10/dist-packages (from transformers<5.0.0,>=4.41.0->sentence-transformers) (0.4.5)\n",
            "Requirement already satisfied: joblib>=1.2.0 in /usr/local/lib/python3.10/dist-packages (from scikit-learn->sentence-transformers) (1.4.2)\n",
            "Requirement already satisfied: threadpoolctl>=3.1.0 in /usr/local/lib/python3.10/dist-packages (from scikit-learn->sentence-transformers) (3.5.0)\n",
            "Requirement already satisfied: MarkupSafe>=2.0 in /usr/local/lib/python3.10/dist-packages (from jinja2->torch>=1.11.0->sentence-transformers) (3.0.2)\n",
            "Requirement already satisfied: charset-normalizer<4,>=2 in /usr/local/lib/python3.10/dist-packages (from requests->huggingface-hub>=0.20.0->sentence-transformers) (3.4.0)\n",
            "Requirement already satisfied: idna<4,>=2.5 in /usr/local/lib/python3.10/dist-packages (from requests->huggingface-hub>=0.20.0->sentence-transformers) (3.10)\n",
            "Requirement already satisfied: urllib3<3,>=1.21.1 in /usr/local/lib/python3.10/dist-packages (from requests->huggingface-hub>=0.20.0->sentence-transformers) (2.2.3)\n",
            "Requirement already satisfied: certifi>=2017.4.17 in /usr/local/lib/python3.10/dist-packages (from requests->huggingface-hub>=0.20.0->sentence-transformers) (2024.12.14)\n"
          ]
        }
      ],
      "source": [
        "!pip install -U sentence-transformers\n",
        "from sentence_transformers import SentenceTransformer, util"
      ]
    },
    {
      "cell_type": "code",
      "source": [
        "from sentence_transformers import SentenceTransformer\n",
        "model = SentenceTransformer('sentence-transformers/LaBSE')"
      ],
      "metadata": {
        "id": "IlupAfS3O9ha"
      },
      "execution_count": 14,
      "outputs": []
    },
    {
      "cell_type": "code",
      "source": [
        "import numpy as np\n",
        "sentences = [\"This is an example sentence\", \"Đây là câu dài\"]\n",
        "embeddings = model.encode(sentences)\n",
        "def cos_sim(a, b):\n",
        "    \"\"\"Calculates the cosine similarity between two vectors.\n",
        "    \"\"\"\n",
        "    return np.dot(a, b) / (np.linalg.norm(a) * np.linalg.norm(b))\n",
        "\n",
        "similarity = cos_sim(embeddings[0], embeddings[1])\n",
        "\n",
        "print(f\"Cosine similarity: {similarity:.4f}\")"
      ],
      "metadata": {
        "colab": {
          "base_uri": "https://localhost:8080/"
        },
        "id": "tem4DI6-PdGo",
        "outputId": "0e232b2e-4b28-40c8-d5df-f133063fa29c"
      },
      "execution_count": 15,
      "outputs": [
        {
          "output_type": "stream",
          "name": "stdout",
          "text": [
            "Cosine similarity: 0.6602\n"
          ]
        }
      ]
    },
    {
      "cell_type": "code",
      "source": [
        "import json\n",
        "with open(\"LVT_vie.txt\", \"r\", encoding=\"utf-8\") as f_vie:\n",
        "    lines = [line.strip() for line in f_vie.readlines()]\n",
        "\n",
        "with open(\"LVT_eng.txt\", \"r\", encoding=\"utf-8\") as f_eng:\n",
        "    lines_eng = [line.strip() for line in f_eng.readlines()]\n",
        "\n",
        "# 3. Encode all sentences\n",
        "embeddings_vie = model.encode(lines)       # Shape: [V, d]\n",
        "embeddings_eng = model.encode(lines_eng)   # Shape: [E, d]\n",
        "\n",
        "# 4. Compute similarity matrix (PyTorch tensor), shape: [V, E]\n",
        "similarity_matrix = util.cos_sim(embeddings_vie, embeddings_eng)\n",
        "\n",
        "# 5. Collect sentence pairs with similarity > 0.5\n",
        "threshold = 0.55\n",
        "pairs_above_threshold = []\n",
        "\n",
        "for i in range(len(lines)):\n",
        "    for j in range(len(lines_eng)):\n",
        "        score = similarity_matrix[i, j].item()\n",
        "        if score > threshold:\n",
        "            pairs_above_threshold.append({\n",
        "                \"vie_sentence\": lines[i],\n",
        "                \"eng_sentence\": lines_eng[j],\n",
        "                \"score\": score\n",
        "            })\n",
        "counts = {}\n",
        "for pair in pairs_above_threshold:\n",
        "    vs = pair[\"vie_sentence\"]\n",
        "    counts[vs] = counts.get(vs, 0) + 1\n",
        "\n",
        "# 7. Remove all pairs if vie_sentence appears more than once\n",
        "filtered_pairs = [\n",
        "    pair for pair in pairs_above_threshold\n",
        "    if counts[pair[\"vie_sentence\"]] == 1\n",
        "]\n",
        "\n",
        "# 8. Save filtered pairs to JSON\n",
        "output_path = \"pairs_unique_vie.json\"\n",
        "with open(output_path, \"w\", encoding=\"utf-8\") as f_json:\n",
        "    json.dump(filtered_pairs, f_json, ensure_ascii=False, indent=4)\n",
        "\n",
        "print(f\"Original pairs above threshold: {len(pairs_above_threshold)}\")\n",
        "print(f\"Filtered pairs: {len(filtered_pairs)}\")\n",
        "print(f\"Results saved to {output_path}\")"
      ],
      "metadata": {
        "colab": {
          "base_uri": "https://localhost:8080/"
        },
        "id": "xwD8UxduUVZF",
        "outputId": "5839d3a3-d8b0-4ef9-c29b-cc87d31640dc"
      },
      "execution_count": 24,
      "outputs": [
        {
          "output_type": "stream",
          "name": "stdout",
          "text": [
            "Original pairs above threshold: 268\n",
            "Filtered pairs: 216\n",
            "Results saved to pairs_unique_vie.json\n"
          ]
        }
      ]
    },
    {
      "cell_type": "code",
      "source": [],
      "metadata": {
        "id": "0cK0JoDkYRBX"
      },
      "execution_count": null,
      "outputs": []
    }
  ]
}